{
 "cells": [
  {
   "cell_type": "code",
   "execution_count": 1,
   "id": "af342c01",
   "metadata": {},
   "outputs": [],
   "source": [
    "%config Completer.use_jedi = False\n",
    "import warnings\n",
    "warnings.filterwarnings(action='ignore')"
   ]
  },
  {
   "cell_type": "markdown",
   "id": "22657bde",
   "metadata": {},
   "source": [
    "회귀 신경망 실습  \n",
    "신경망을 이용해 보스턴 집값 데이터를 활용해 보스턴 집값을 에측하는 모형을 만들어본다."
   ]
  },
  {
   "cell_type": "code",
   "execution_count": 2,
   "id": "0c790bf2",
   "metadata": {},
   "outputs": [],
   "source": [
    "# 일관된 결과값이 나오도록 random seed를 설정한다.\n",
    "import numpy as np\n",
    "import tensorflow as tf\n",
    "np.random.seed(0)\n",
    "tf.random.set_seed(0)"
   ]
  },
  {
   "cell_type": "code",
   "execution_count": 3,
   "id": "cdf2ac54",
   "metadata": {},
   "outputs": [],
   "source": [
    "# 데이터 불러오기\n",
    "from sklearn import datasets # 보스턴 집값 데이터를 사용하기 위해 import 한다.\n",
    "raw_boston = datasets.load_boston() # 보스턴 집값 데이터를 불러온다."
   ]
  },
  {
   "cell_type": "code",
   "execution_count": 4,
   "id": "1b190193",
   "metadata": {},
   "outputs": [],
   "source": [
    "# 피쳐/타겟 데이터 지정\n",
    "X = raw_boston.data # 보스턴 집값 피쳐 데이터를 저장한다.\n",
    "y = raw_boston.target # 보스턴 집값 타겟 데이터를 저장한다."
   ]
  },
  {
   "cell_type": "code",
   "execution_count": 5,
   "id": "a697e7c0",
   "metadata": {},
   "outputs": [
    {
     "name": "stdout",
     "output_type": "stream",
     "text": [
      "(506, 13)\n"
     ]
    }
   ],
   "source": [
    "# 피처 데이터 차원 확인\n",
    "print(X.shape) # 결과를 확인하면 총 13개의 피쳐가 사용되는데, 이는 신경망을 생성할 때 사용된다."
   ]
  },
  {
   "cell_type": "code",
   "execution_count": 6,
   "id": "b8927644",
   "metadata": {},
   "outputs": [
    {
     "name": "stdout",
     "output_type": "stream",
     "text": [
      "{5.0, 6.3, 7.2, 8.8, 7.4, 10.2, 11.8, 12.7, 13.6, 14.5, 15.0, 16.5, 17.5, 18.9, 18.2, 20.4, 21.6, 22.9, 21.7, 24.0, 19.9, 26.6, 26.5, 27.5, 23.1, 27.1, 28.7, 24.7, 30.8, 33.4, 34.7, 34.9, 36.2, 35.4, 31.6, 33.0, 38.7, 33.2, 43.8, 41.3, 37.2, 39.8, 42.3, 48.5, 44.8, 50.0, 46.7, 48.3, 44.0, 48.8, 46.0, 10.5, 11.5, 11.0, 12.5, 12.0, 13.5, 13.0, 14.0, 16.6, 16.0, 16.1, 16.4, 17.4, 17.1, 17.0, 17.6, 17.9, 18.4, 18.6, 18.5, 18.0, 18.1, 19.6, 19.4, 19.5, 19.1, 19.0, 20.0, 20.5, 20.9, 20.6, 20.1, 21.0, 21.4, 21.5, 21.9, 21.1, 22.0, 22.5, 22.6, 22.4, 22.1, 23.4, 23.5, 23.9, 23.6, 23.0, 24.1, 24.6, 24.4, 24.5, 25.0, 25.1, 26.4, 27.0, 27.9, 28.0, 28.4, 28.1, 28.5, 28.6, 29.4, 29.9, 29.6, 29.1, 29.0, 30.5, 30.1, 31.1, 31.5, 31.0, 32.5, 32.0, 32.9, 32.4, 32.2, 33.3, 33.8, 33.1, 32.7, 8.4, 34.6, 35.2, 35.1, 10.4, 10.9, 7.0, 36.4, 36.0, 36.5, 36.1, 11.9, 37.9, 37.0, 37.6, 37.3, 13.9, 13.4, 14.4, 14.9, 15.4, 8.5, 41.7, 42.8, 43.1, 43.5, 45.4, 9.5, 8.3, 8.7, 9.7, 10.8, 11.3, 11.7, 12.3, 12.8, 13.2, 13.3, 13.8, 14.8, 14.3, 14.2, 15.2, 15.7, 15.3, 16.2, 16.8, 16.3, 16.7, 17.3, 17.8, 17.2, 17.7, 18.7, 18.8, 18.3, 19.3, 19.7, 19.8, 19.2, 20.2, 20.8, 20.3, 20.7, 21.2, 21.8, 22.2, 22.8, 22.7, 22.3, 23.3, 23.8, 23.2, 23.7, 24.8, 24.2, 24.3, 25.3, 25.2, 26.7, 26.2, 7.5, 28.2, 29.8, 30.3, 30.7, 5.6, 31.7, 31.2, 8.1, 9.6, 12.1, 12.6, 13.1, 14.6, 14.1, 15.6, 15.1}\n"
     ]
    }
   ],
   "source": [
    "# 타겟 데이터 종류 확인\n",
    "# 타겟 데이터 종류를 확인함으로써 분류 문제인지 아니면 회귀 문제인지 파악할 수 있고, 분류 문제라면 몇 가지 클래스로\n",
    "# 구분되는지 알 수 있다.\n",
    "print(set(y))"
   ]
  },
  {
   "cell_type": "code",
   "execution_count": 7,
   "id": "ea471c02",
   "metadata": {},
   "outputs": [
    {
     "name": "stdout",
     "output_type": "stream",
     "text": [
      "(379, 13) (127, 13)\n"
     ]
    }
   ],
   "source": [
    "# 트레이닝/테스트 데이터 분할\n",
    "from sklearn.model_selection import train_test_split # 트레이닝/테스트 데이터 분할을 위해 import 한다.\n",
    "# 피쳐 데이터와 타겟 데이터를 트레이닝 데이터와 테스트 데이터로 분할한다.\n",
    "X_tn, X_te, y_tn, y_te = train_test_split(X, y, random_state=0)\n",
    "print(X_tn.shape, X_te.shape)"
   ]
  },
  {
   "cell_type": "code",
   "execution_count": 8,
   "id": "fd304519",
   "metadata": {},
   "outputs": [],
   "source": [
    "# 시퀀스 API 신경망 생성\n",
    "from tensorflow.keras.models import Sequential # 시퀀스 API 신경망 생성하기 위해 import 한다.\n",
    "from tensorflow.keras.layers import Dense # 신경망에 추가할 layer를 생성하기 위해 import 한다.\n",
    "\n",
    "n = X_tn.shape[1] # 신경망에 사용되는 피쳐 개수를 저장한다.\n",
    "e = 30 # 학습 횟수를 의미하는 epoch 값을 설정한다."
   ]
  },
  {
   "cell_type": "code",
   "execution_count": 9,
   "id": "f10d9e6e",
   "metadata": {},
   "outputs": [
    {
     "name": "stdout",
     "output_type": "stream",
     "text": [
      "Model: \"sequential\"\n",
      "_________________________________________________________________\n",
      " Layer (type)                Output Shape              Param #   \n",
      "=================================================================\n",
      " dense (Dense)               (None, 20)                280       \n",
      "                                                                 \n",
      " dense_1 (Dense)             (None, 1)                 21        \n",
      "                                                                 \n",
      "=================================================================\n",
      "Total params: 301\n",
      "Trainable params: 301\n",
      "Non-trainable params: 0\n",
      "_________________________________________________________________\n"
     ]
    }
   ],
   "source": [
    "# Sequential()로 신경망 모형을 만들고 add() 함수를 이용해서 layer를 추가한다.\n",
    "model = Sequential() # 신경망 모델을 만든다.\n",
    "# units 옵션으로 출력 차원, input_dim 옵션으로 입력 데이터(피쳐) 차원, activation 옵션으로 활설화 함수를 지정해서\n",
    "# 입력 layer를 만든다.\n",
    "model.add(Dense(units=20, input_dim=n, activation='relu')) # 입력 layer를 만든다.\n",
    "# 최종 출력은 집값을 예측하므로 1개의 노드로 출력된다.\n",
    "# 회귀 문제를 풀 때 최종 활성화 함수는 활성화 함수 중 선형 함수를 사용해야 하는데, 코드 상에서 최종 활성화 함수를\n",
    "# 지정하지 않으면 기본값으로 선형 함수가 적용된다.\n",
    "model.add(Dense(units=1)) # 출력 layer를 만든다.\n",
    "model.summary()"
   ]
  },
  {
   "cell_type": "code",
   "execution_count": 10,
   "id": "df94952a",
   "metadata": {},
   "outputs": [],
   "source": [
    "# 모형 컴파일\n",
    "# loss 옵션으로 손실 함수를 지정하고 optimizer 옵션으로 최적화 함수(optimizer)를 지정하고 metrics 옵션으로 평가\n",
    "# 기준을 지정한다.\n",
    "model.compile(loss='mean_squared_error', optimizer='adam', metrics=['mean_squared_error'])"
   ]
  },
  {
   "cell_type": "code",
   "execution_count": 11,
   "id": "2bf2c617",
   "metadata": {},
   "outputs": [
    {
     "name": "stdout",
     "output_type": "stream",
     "text": [
      "Epoch 1/30\n",
      "76/76 [==============================] - 1s 1ms/step - loss: 496.7070 - mean_squared_error: 496.7070\n",
      "Epoch 2/30\n",
      "76/76 [==============================] - 0s 1ms/step - loss: 158.4073 - mean_squared_error: 158.4073\n",
      "Epoch 3/30\n",
      "76/76 [==============================] - 0s 2ms/step - loss: 103.2346 - mean_squared_error: 103.2346\n",
      "Epoch 4/30\n",
      "76/76 [==============================] - 0s 2ms/step - loss: 82.7719 - mean_squared_error: 82.7719\n",
      "Epoch 5/30\n",
      "76/76 [==============================] - 0s 1ms/step - loss: 72.5095 - mean_squared_error: 72.5095\n",
      "Epoch 6/30\n",
      "76/76 [==============================] - 0s 1ms/step - loss: 68.7647 - mean_squared_error: 68.7647\n",
      "Epoch 7/30\n",
      "76/76 [==============================] - 0s 1ms/step - loss: 65.5964 - mean_squared_error: 65.5965\n",
      "Epoch 8/30\n",
      "76/76 [==============================] - 0s 1ms/step - loss: 59.8449 - mean_squared_error: 59.8449\n",
      "Epoch 9/30\n",
      "76/76 [==============================] - 0s 1ms/step - loss: 57.2586 - mean_squared_error: 57.2586\n",
      "Epoch 10/30\n",
      "76/76 [==============================] - 0s 1ms/step - loss: 58.0925 - mean_squared_error: 58.0925\n",
      "Epoch 11/30\n",
      "76/76 [==============================] - 0s 2ms/step - loss: 53.8981 - mean_squared_error: 53.8981\n",
      "Epoch 12/30\n",
      "76/76 [==============================] - 0s 1ms/step - loss: 50.6700 - mean_squared_error: 50.6700\n",
      "Epoch 13/30\n",
      "76/76 [==============================] - 0s 1ms/step - loss: 49.6816 - mean_squared_error: 49.6816\n",
      "Epoch 14/30\n",
      "76/76 [==============================] - 0s 1ms/step - loss: 47.7293 - mean_squared_error: 47.7293\n",
      "Epoch 15/30\n",
      "76/76 [==============================] - 0s 2ms/step - loss: 46.4394 - mean_squared_error: 46.4394\n",
      "Epoch 16/30\n",
      "76/76 [==============================] - 0s 2ms/step - loss: 49.0995 - mean_squared_error: 49.0995\n",
      "Epoch 17/30\n",
      "76/76 [==============================] - 0s 1ms/step - loss: 44.7411 - mean_squared_error: 44.7411\n",
      "Epoch 18/30\n",
      "76/76 [==============================] - 0s 2ms/step - loss: 45.4021 - mean_squared_error: 45.4021\n",
      "Epoch 19/30\n",
      "76/76 [==============================] - 0s 2ms/step - loss: 43.2432 - mean_squared_error: 43.2432\n",
      "Epoch 20/30\n",
      "76/76 [==============================] - 0s 1ms/step - loss: 41.3795 - mean_squared_error: 41.3795\n",
      "Epoch 21/30\n",
      "76/76 [==============================] - 0s 1ms/step - loss: 41.4031 - mean_squared_error: 41.4031\n",
      "Epoch 22/30\n",
      "76/76 [==============================] - 0s 1ms/step - loss: 41.3662 - mean_squared_error: 41.3662\n",
      "Epoch 23/30\n",
      "76/76 [==============================] - 0s 1ms/step - loss: 40.2402 - mean_squared_error: 40.2402\n",
      "Epoch 24/30\n",
      "76/76 [==============================] - 0s 2ms/step - loss: 39.1877 - mean_squared_error: 39.1877\n",
      "Epoch 25/30\n",
      "76/76 [==============================] - 0s 1ms/step - loss: 39.1780 - mean_squared_error: 39.1780\n",
      "Epoch 26/30\n",
      "76/76 [==============================] - 0s 1ms/step - loss: 39.7486 - mean_squared_error: 39.7486\n",
      "Epoch 27/30\n",
      "76/76 [==============================] - 0s 2ms/step - loss: 37.5599 - mean_squared_error: 37.5599\n",
      "Epoch 28/30\n",
      "76/76 [==============================] - 0s 1ms/step - loss: 39.5759 - mean_squared_error: 39.5759\n",
      "Epoch 29/30\n",
      "76/76 [==============================] - 0s 2ms/step - loss: 38.0936 - mean_squared_error: 38.0936\n",
      "Epoch 30/30\n",
      "76/76 [==============================] - 0s 2ms/step - loss: 35.7097 - mean_squared_error: 35.7097\n"
     ]
    }
   ],
   "source": [
    "# 신경망 학습\n",
    "# 트레이팅 데이터(X_tn), 트레이팅 데이터에 따른 타겟 데이터(y_tn), epoch, batch_size\n",
    "hist = model.fit(X_tn, y_tn, epochs=e, batch_size=5)"
   ]
  },
  {
   "cell_type": "code",
   "execution_count": 12,
   "id": "a071dada",
   "metadata": {},
   "outputs": [
    {
     "name": "stdout",
     "output_type": "stream",
     "text": [
      "12/12 [==============================] - 0s 1ms/step - loss: 40.5219 - mean_squared_error: 40.5219\n",
      "[40.521888732910156, 40.521888732910156]\n",
      "4/4 [==============================] - 0s 1ms/step - loss: 54.7520 - mean_squared_error: 54.7520\n",
      "[54.751991271972656, 54.751991271972656]\n"
     ]
    }
   ],
   "source": [
    "# 학습 평가\n",
    "print(model.evaluate(X_tn, y_tn)) # 트레이닝 데이터 학습 평가\n",
    "print(model.evaluate(X_te, y_te)) # 테스트 데이터 학습 평가"
   ]
  },
  {
   "cell_type": "code",
   "execution_count": 20,
   "id": "6520bf9b",
   "metadata": {},
   "outputs": [],
   "source": [
    "# 정확도 및 손실 정도 시각화 준비\n",
    "epoch = np.arange(1, e + 1)\n",
    "# print(epoch)\n",
    "mse = hist.history['mean_squared_error']\n",
    "# print(mse)\n",
    "loss = hist.history['loss']\n",
    "# print(loss)"
   ]
  },
  {
   "cell_type": "code",
   "execution_count": 22,
   "id": "9f2ac8e5",
   "metadata": {},
   "outputs": [
    {
     "data": {
      "image/png": "[encoded data removed]",
      "text/plain": [
       "<Figure size 800x600 with 1 Axes>"
      ]
     },
     "metadata": {},
     "output_type": "display_data"
    }
   ],
   "source": [
    "# MSE 학습 그래프\n",
    "import matplotlib.pyplot as plt\n",
    "plt.figure(figsize=[8, 6])\n",
    "plt.plot(epoch, mse, label='mse', marker='o')\n",
    "plt.xlabel('epoch')\n",
    "plt.ylabel('mean_squared_error')\n",
    "plt.legend()\n",
    "plt.show()\n",
    "# epoch가 진행될수록 MSE가 감소하는 것을 확인할 수 있다."
   ]
  },
  {
   "cell_type": "code",
   "execution_count": 15,
   "id": "25e0d1db",
   "metadata": {},
   "outputs": [
    {
     "data": {
      "image/png": "[encoded data removed]",
      "text/plain": [
       "<Figure size 800x600 with 1 Axes>"
      ]
     },
     "metadata": {},
     "output_type": "display_data"
    }
   ],
   "source": [
    "# 손실 그래프\n",
    "plt.figure(figsize=[8, 6])\n",
    "plt.plot(epoch, loss, 'r', marker='o', label='loss')\n",
    "plt.xlabel('epoch')\n",
    "plt.ylabel('loss')\n",
    "plt.legend()\n",
    "plt.show()\n",
    "# 손실 확인 결과 에포크 진행 단계별로 손실이 점차 낮아지는 것을 볼 수 있다."
   ]
  },
  {
   "cell_type": "code",
   "execution_count": 16,
   "id": "ef2c1675",
   "metadata": {
    "scrolled": true
   },
   "outputs": [
    {
     "name": "stdout",
     "output_type": "stream",
     "text": [
      "4/4 [==============================] - 0s 3ms/step\n",
      "[15.329386  19.622469  26.157219  10.939337  17.182837  22.884567\n",
      " 16.984604  24.878834  15.895477   7.102661   2.6577458  8.858372\n",
      " 15.352566   5.0348144 29.94111   24.588402  18.551605  29.013939\n",
      " 24.345524  23.073204  24.671417  17.704113  19.521473  28.205599\n",
      " 21.522345  16.193083  20.91839    9.32741   28.108227  16.926685\n",
      " 13.770897  16.959879  21.763783  22.606436  24.89393   16.282322\n",
      "  6.675758  20.322157  12.986964  11.703323  21.036488  18.819006\n",
      " 13.9262085 11.873838  16.15194   24.505932  17.354565  15.0115185\n",
      "  9.235289  22.983812   5.4276404 13.944191  21.136024  24.914593\n",
      "  8.03378   16.738258  19.18687   13.254412  10.871837  20.482477\n",
      " 19.670183  20.434782  26.025723  24.88818   14.084625  24.499632\n",
      " 13.359079  16.177877  15.633792  20.777733  18.139442  19.180717\n",
      " 28.742538  26.189034  21.247658   2.4195876 28.012661  22.112173\n",
      " 23.553875  18.773434  24.528498  20.200579  17.621742  29.161915\n",
      " 29.071291  23.624714  21.354431  12.750003  23.144487  13.265589\n",
      " 18.667208   9.916916  26.033617  26.87033   26.401136  21.107718\n",
      " -0.7541355 27.97595   11.903019  22.602146  21.80373   21.967329\n",
      " 26.314953  18.334145  22.986122  20.804846   6.8826957 17.383738\n",
      " 25.533115  22.64111   25.08109    9.345203  17.605072  12.701807\n",
      "  9.17734   19.612658   2.0079823 21.625793   9.041563  35.742783\n",
      " 24.039265  11.030693  18.19651   19.7289    23.709326  19.999525\n",
      " 32.776333 ]\n"
     ]
    }
   ],
   "source": [
    "# 실제값, 예측값 데이터프레임 생성\n",
    "pred_y = model.predict(X_te).flatten()\n",
    "print(pred_y)"
   ]
  },
  {
   "cell_type": "code",
   "execution_count": 17,
   "id": "35691eb3",
   "metadata": {},
   "outputs": [
    {
     "data": {
      "text/html": [
       "<div>\n",
       "<style scoped>\n",
       "    .dataframe tbody tr th:only-of-type {\n",
       "        vertical-align: middle;\n",
       "    }\n",
       "\n",
       "    .dataframe tbody tr th {\n",
       "        vertical-align: top;\n",
       "    }\n",
       "\n",
       "    .dataframe thead th {\n",
       "        text-align: right;\n",
       "    }\n",
       "</style>\n",
       "<table border=\"1\" class=\"dataframe\">\n",
       "  <thead>\n",
       "    <tr style=\"text-align: right;\">\n",
       "      <th></th>\n",
       "      <th>predict_val</th>\n",
       "      <th>real_val</th>\n",
       "    </tr>\n",
       "  </thead>\n",
       "  <tbody>\n",
       "    <tr>\n",
       "      <th>0</th>\n",
       "      <td>15.329386</td>\n",
       "      <td>22.6</td>\n",
       "    </tr>\n",
       "    <tr>\n",
       "      <th>1</th>\n",
       "      <td>19.622469</td>\n",
       "      <td>50.0</td>\n",
       "    </tr>\n",
       "    <tr>\n",
       "      <th>2</th>\n",
       "      <td>26.157219</td>\n",
       "      <td>23.0</td>\n",
       "    </tr>\n",
       "    <tr>\n",
       "      <th>3</th>\n",
       "      <td>10.939337</td>\n",
       "      <td>8.3</td>\n",
       "    </tr>\n",
       "    <tr>\n",
       "      <th>4</th>\n",
       "      <td>17.182837</td>\n",
       "      <td>21.2</td>\n",
       "    </tr>\n",
       "    <tr>\n",
       "      <th>...</th>\n",
       "      <td>...</td>\n",
       "      <td>...</td>\n",
       "    </tr>\n",
       "    <tr>\n",
       "      <th>122</th>\n",
       "      <td>18.196510</td>\n",
       "      <td>19.4</td>\n",
       "    </tr>\n",
       "    <tr>\n",
       "      <th>123</th>\n",
       "      <td>19.728901</td>\n",
       "      <td>21.2</td>\n",
       "    </tr>\n",
       "    <tr>\n",
       "      <th>124</th>\n",
       "      <td>23.709326</td>\n",
       "      <td>20.3</td>\n",
       "    </tr>\n",
       "    <tr>\n",
       "      <th>125</th>\n",
       "      <td>19.999525</td>\n",
       "      <td>18.8</td>\n",
       "    </tr>\n",
       "    <tr>\n",
       "      <th>126</th>\n",
       "      <td>32.776333</td>\n",
       "      <td>33.4</td>\n",
       "    </tr>\n",
       "  </tbody>\n",
       "</table>\n",
       "<p>127 rows × 2 columns</p>\n",
       "</div>"
      ],
      "text/plain": [
       "     predict_val  real_val\n",
       "0      15.329386      22.6\n",
       "1      19.622469      50.0\n",
       "2      26.157219      23.0\n",
       "3      10.939337       8.3\n",
       "4      17.182837      21.2\n",
       "..           ...       ...\n",
       "122    18.196510      19.4\n",
       "123    19.728901      21.2\n",
       "124    23.709326      20.3\n",
       "125    19.999525      18.8\n",
       "126    32.776333      33.4\n",
       "\n",
       "[127 rows x 2 columns]"
      ]
     },
     "execution_count": 17,
     "metadata": {},
     "output_type": "execute_result"
    }
   ],
   "source": [
    "import pandas as pd\n",
    "result_df = pd.DataFrame(pred_y, columns=['predict_val'])\n",
    "result_df['real_val'] = y_te\n",
    "result_df"
   ]
  },
  {
   "cell_type": "code",
   "execution_count": 26,
   "id": "27140936",
   "metadata": {},
   "outputs": [
    {
     "data": {
      "text/html": [
       "<div>\n",
       "<style scoped>\n",
       "    .dataframe tbody tr th:only-of-type {\n",
       "        vertical-align: middle;\n",
       "    }\n",
       "\n",
       "    .dataframe tbody tr th {\n",
       "        vertical-align: top;\n",
       "    }\n",
       "\n",
       "    .dataframe thead th {\n",
       "        text-align: right;\n",
       "    }\n",
       "</style>\n",
       "<table border=\"1\" class=\"dataframe\">\n",
       "  <thead>\n",
       "    <tr style=\"text-align: right;\">\n",
       "      <th></th>\n",
       "      <th>predict_val</th>\n",
       "      <th>real_val</th>\n",
       "    </tr>\n",
       "  </thead>\n",
       "  <tbody>\n",
       "    <tr>\n",
       "      <th>96</th>\n",
       "      <td>-0.754135</td>\n",
       "      <td>13.8</td>\n",
       "    </tr>\n",
       "    <tr>\n",
       "      <th>116</th>\n",
       "      <td>2.007982</td>\n",
       "      <td>8.4</td>\n",
       "    </tr>\n",
       "    <tr>\n",
       "      <th>75</th>\n",
       "      <td>2.419588</td>\n",
       "      <td>7.4</td>\n",
       "    </tr>\n",
       "    <tr>\n",
       "      <th>10</th>\n",
       "      <td>2.657746</td>\n",
       "      <td>8.8</td>\n",
       "    </tr>\n",
       "    <tr>\n",
       "      <th>13</th>\n",
       "      <td>5.034814</td>\n",
       "      <td>10.5</td>\n",
       "    </tr>\n",
       "    <tr>\n",
       "      <th>...</th>\n",
       "      <td>...</td>\n",
       "      <td>...</td>\n",
       "    </tr>\n",
       "    <tr>\n",
       "      <th>84</th>\n",
       "      <td>29.071291</td>\n",
       "      <td>50.0</td>\n",
       "    </tr>\n",
       "    <tr>\n",
       "      <th>83</th>\n",
       "      <td>29.161915</td>\n",
       "      <td>44.8</td>\n",
       "    </tr>\n",
       "    <tr>\n",
       "      <th>14</th>\n",
       "      <td>29.941111</td>\n",
       "      <td>50.0</td>\n",
       "    </tr>\n",
       "    <tr>\n",
       "      <th>126</th>\n",
       "      <td>32.776333</td>\n",
       "      <td>33.4</td>\n",
       "    </tr>\n",
       "    <tr>\n",
       "      <th>119</th>\n",
       "      <td>35.742783</td>\n",
       "      <td>50.0</td>\n",
       "    </tr>\n",
       "  </tbody>\n",
       "</table>\n",
       "<p>127 rows × 2 columns</p>\n",
       "</div>"
      ],
      "text/plain": [
       "     predict_val  real_val\n",
       "96     -0.754135      13.8\n",
       "116     2.007982       8.4\n",
       "75      2.419588       7.4\n",
       "10      2.657746       8.8\n",
       "13      5.034814      10.5\n",
       "..           ...       ...\n",
       "84     29.071291      50.0\n",
       "83     29.161915      44.8\n",
       "14     29.941111      50.0\n",
       "126    32.776333      33.4\n",
       "119    35.742783      50.0\n",
       "\n",
       "[127 rows x 2 columns]"
      ]
     },
     "execution_count": 26,
     "metadata": {},
     "output_type": "execute_result"
    }
   ],
   "source": [
    "# 예측값을 기준으로 데이터프레임을 오름차순으로 정렬한다.\n",
    "df_sort = result_df.sort_values(['predict_val'], ascending=True)\n",
    "df_sort"
   ]
  },
  {
   "cell_type": "code",
   "execution_count": 30,
   "id": "01d8b68c",
   "metadata": {},
   "outputs": [
    {
     "data": {
      "image/png": "[encoded data removed]",
      "text/plain": [
       "<Figure size 800x600 with 1 Axes>"
      ]
     },
     "metadata": {},
     "output_type": "display_data"
    }
   ],
   "source": [
    "# 예측값, 실제값 비교 그래프\n",
    "import matplotlib.pyplot as plt\n",
    "plt.figure(figsize=[8, 6])\n",
    "idx = np.arange(1, len(df_sort) + 1)\n",
    "plt.scatter(idx, df_sort['real_val'], marker='o', label='real_val')\n",
    "plt.plot(idx, df_sort['predict_val'], color='r', label='predict_val')\n",
    "plt.xlabel('index')\n",
    "plt.ylabel('value')\n",
    "plt.legend()\n",
    "plt.show()"
   ]
  },
  {
   "cell_type": "code",
   "execution_count": null,
   "id": "ceda1c46",
   "metadata": {},
   "outputs": [],
   "source": []
  },
  {
   "cell_type": "code",
   "execution_count": null,
   "id": "7a579254",
   "metadata": {},
   "outputs": [],
   "source": []
  }
 ],
 "metadata": {
  "kernelspec": {
   "display_name": "py37",
   "language": "python",
   "name": "py37"
  },
  "language_info": {
   "codemirror_mode": {
    "name": "ipython",
    "version": 3
   },
   "file_extension": ".py",
   "mimetype": "text/x-python",
   "name": "python",
   "nbconvert_exporter": "python",
   "pygments_lexer": "ipython3",
   "version": "3.7.16"
  }
 },
 "nbformat": 4,
 "nbformat_minor": 5
}
