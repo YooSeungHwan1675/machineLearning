{
 "cells": [
  {
   "cell_type": "markdown",
   "id": "301c0531",
   "metadata": {},
   "source": [
    "경사 하강법(Gradinet Descent)  \n",
    "\n",
    "기울기를 너무 크게 잡으면 오차가 커지고 너무 작게 잡아도 오차가 커진다.  \n",
    "기울기를 무한대로 키우면 오차도 무한대로 커지고 기울기를 무한대로 작게해도 오차는 무한대로 커진다."
   ]
  },
  {
   "cell_type": "code",
   "execution_count": 1,
   "id": "037fb93e",
   "metadata": {},
   "outputs": [
    {
     "name": "stdout",
     "output_type": "stream",
     "text": [
      "WARNING:tensorflow:From c:\\python\\lib\\site-packages\\tensorflow\\python\\compat\\v2_compat.py:101: disable_resource_variables (from tensorflow.python.ops.variable_scope) is deprecated and will be removed in a future version.\n",
      "Instructions for updating:\n",
      "non-resource variables are not supported in the long term\n"
     ]
    }
   ],
   "source": [
    "import warnings\n",
    "warnings.filterwarnings(action='ignore')\n",
    "%config Completer.use_jedi = False\n",
    "import tensorflow.compat.v1 as tf\n",
    "tf.disable_v2_behavior()\n",
    "import pandas as pd\n",
    "import numpy as np"
   ]
  },
  {
   "cell_type": "code",
   "execution_count": 3,
   "id": "43cc6856",
   "metadata": {},
   "outputs": [],
   "source": [
    "data = [[2,81] , [4, 93], [6,91] , [8,97]] # [x(공부 시간), y(시험 성적)]\n",
    "x = [i[0] for i in data] # 공부 시간\n",
    "y = [i[1] for i in data] # 시험 성적"
   ]
  },
  {
   "cell_type": "code",
   "execution_count": 43,
   "id": "85c79dc1",
   "metadata": {},
   "outputs": [
    {
     "name": "stdout",
     "output_type": "stream",
     "text": [
      "a = [0.03988028], b= [45.13327]\n"
     ]
    }
   ],
   "source": [
    "# 기울기 a와 y절편 b를 임의로 정한다.\n",
    "# random_uniform([난수의 개수], 최소값, 최대값, dtype= 난수의 데이터 타입, seed=숫자)\n",
    "# dtype 생략시 기본값은 tf.float32이고 seed를 지정하면 항상 일정한 배열의 난수가 생성된다.\n",
    "a =  tf.Variable(tf.random_uniform([1], 0, 10)) # 기울기(가중치), 0 ~ 10 사이의 난수\n",
    "b =  tf.Variable(tf.random_uniform([1], 0, 100)) # y절편(바이어스), 0 ~ 100 사이의 난수 \n",
    "sess = tf.Session()\n",
    "sess.run(tf.global_variables_initializer())\n",
    "print('a = {}, b= {}'.format(sess.run(a), sess.run(b)))"
   ]
  },
  {
   "cell_type": "code",
   "execution_count": 45,
   "id": "1dbb40c8",
   "metadata": {},
   "outputs": [],
   "source": [
    "# 예측 성적(Y)을 얻기 위한 가설(수식)을 만든다.\n",
    "Y = a * x + b"
   ]
  },
  {
   "cell_type": "code",
   "execution_count": 50,
   "id": "17843221",
   "metadata": {},
   "outputs": [],
   "source": [
    "# tensorflow에서 실행할 RMSE(평균 제곱근 오차) 수식(오차 함수)을 만든다.\n",
    "# tf.square(Y -y): 예측 성적(Y)과 실제 성적(y)의 편차의 제곱을 계산한다.\n",
    "# tf.reduce_mean(tf.square(Y - y): 예측 성적과 실제 성적의 편차의 제곱의 평균을 계산한다.\n",
    "# tf.sqrt(tf.reduce_mean(tf.square(Y - y))): 예측 성적과 실제 성적의 편차의ㅣ 제곱의 평균에 대한 제곱근을 계산한다.\n",
    "rmse = tf.sqrt(tf.reduce_mean(tf.square(Y - y)))"
   ]
  },
  {
   "cell_type": "code",
   "execution_count": 62,
   "id": "4d9d69e4",
   "metadata": {},
   "outputs": [],
   "source": [
    "# 경사 하강법을 이용해서 RMSE를 최소로 하는 값을 찾는 수식을 만든다.\n",
    "learning_rate = 0.1\n",
    "gradient_descent = tf.train.GradientDescentOptimizer(learning_rate).minimize(rmse)"
   ]
  },
  {
   "cell_type": "code",
   "execution_count": 63,
   "id": "a69d1935",
   "metadata": {},
   "outputs": [
    {
     "name": "stdout",
     "output_type": "stream",
     "text": [
      "epoch:    0, RMSE : 34.2520 , 기울기:  1.4447, y절편:49.1997\n",
      "epoch:  200, RMSE :  9.1963 , 기울기:  5.8845, y절편:57.6092\n",
      "epoch:  400, RMSE :  6.4128 , 기울기:  4.6515, y절편:64.9673\n",
      "epoch:  600, RMSE :  4.1976 , 기울기:  3.5530, y절편:71.5227\n",
      "epoch:  800, RMSE :  3.1274 , 기울기:  2.7994, y절편:76.0195\n",
      "epoch: 1000, RMSE :  2.9099 , 기울기:  2.4679, y절편:77.9978\n",
      "epoch: 1200, RMSE :  2.8840 , 기울기:  2.3546, y절편:78.6744\n",
      "epoch: 1400, RMSE :  2.8813 , 기울기:  2.3177, y절편:78.8946\n",
      "epoch: 1600, RMSE :  2.8810 , 기울기:  2.3057, y절편:78.9659\n",
      "epoch: 1800, RMSE :  2.8810 , 기울기:  2.3019, y절편:78.9889\n",
      "epoch: 2000, RMSE :  2.8810 , 기울기:  2.3006, y절편:78.9964\n",
      "epoch: 2200, RMSE :  2.8810 , 기울기:  2.3002, y절편:78.9988\n",
      "epoch: 2400, RMSE :  2.8810 , 기울기:  2.3001, y절편:78.9994\n",
      "epoch: 2600, RMSE :  2.8810 , 기울기:  2.3001, y절편:78.9994\n",
      "epoch: 2800, RMSE :  2.8810 , 기울기:  2.3001, y절편:78.9994\n",
      "epoch: 3000, RMSE :  2.8810 , 기울기:  2.3001, y절편:78.9994\n"
     ]
    }
   ],
   "source": [
    "# 학습 시킨다.\n",
    "import time\n",
    "sess = tf.Session()\n",
    "sess.run(tf.global_variables_initializer())\n",
    "\n",
    "for epoch in range(3001):\n",
    "    sess.run(gradient_descent)\n",
    "    if epoch % 200 == 0:\n",
    "        print('epoch: {:4d}, RMSE : {:7.4f} , 기울기: {:7.4f}, y절편:{:7.4f}'.format(epoch, sess.run(rmse), sess.run(a)[0], sess.run(b)[0]))\n",
    "        time.sleep(0.5)"
   ]
  },
  {
   "cell_type": "markdown",
   "id": "7e75dd18",
   "metadata": {},
   "source": [
    "<img src=\"./images/gradient_descent.png\" align=\"left\">"
   ]
  },
  {
   "cell_type": "code",
   "execution_count": null,
   "id": "8b63d36c",
   "metadata": {},
   "outputs": [],
   "source": []
  },
  {
   "cell_type": "code",
   "execution_count": null,
   "id": "02ec0567",
   "metadata": {},
   "outputs": [],
   "source": []
  },
  {
   "cell_type": "code",
   "execution_count": null,
   "id": "e0cb67b7",
   "metadata": {},
   "outputs": [],
   "source": []
  },
  {
   "cell_type": "code",
   "execution_count": null,
   "id": "5106cc36",
   "metadata": {},
   "outputs": [],
   "source": []
  },
  {
   "cell_type": "code",
   "execution_count": null,
   "id": "bcda5b18",
   "metadata": {},
   "outputs": [],
   "source": []
  }
 ],
 "metadata": {
  "kernelspec": {
   "display_name": "Python 3",
   "language": "python",
   "name": "python3"
  },
  "language_info": {
   "codemirror_mode": {
    "name": "ipython",
    "version": 3
   },
   "file_extension": ".py",
   "mimetype": "text/x-python",
   "name": "python",
   "nbconvert_exporter": "python",
   "pygments_lexer": "ipython3",
   "version": "3.6.8"
  }
 },
 "nbformat": 4,
 "nbformat_minor": 5
}
