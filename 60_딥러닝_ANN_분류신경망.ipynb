{
 "cells": [
  {
   "cell_type": "code",
   "execution_count": 1,
   "id": "17710396",
   "metadata": {},
   "outputs": [],
   "source": [
    "import warnings\n",
    "warnings.filterwarnings(action='ignore')\n",
    "%config Completer.use_jedi = False"
   ]
  },
  {
   "cell_type": "markdown",
   "id": "8e802ca9",
   "metadata": {},
   "source": [
    "분류 신경망 실습  \n",
    "신경망을 이용해 와인 종류를 분류하는 모델을 만들어 본다."
   ]
  },
  {
   "cell_type": "code",
   "execution_count": 2,
   "id": "1b717ee8",
   "metadata": {},
   "outputs": [],
   "source": [
    "import numpy as np\n",
    "import tensorflow as tf\n",
    "np.random.seed(0)\n",
    "tf.random.set_seed(0)"
   ]
  },
  {
   "cell_type": "code",
   "execution_count": 3,
   "id": "6df6f513",
   "metadata": {},
   "outputs": [],
   "source": [
    "# 데이터 불러오기\n",
    "from sklearn import datasets # 사이킷런이 제공하는 데이터셋을 사용하기 위해 import 한다.\n",
    "raw_wine = datasets.load_wine() # 와인 데이터를 불러온다."
   ]
  },
  {
   "cell_type": "code",
   "execution_count": 4,
   "id": "06747665",
   "metadata": {},
   "outputs": [
    {
     "data": {
      "text/plain": [
       "(178, 13)"
      ]
     },
     "execution_count": 4,
     "metadata": {},
     "output_type": "execute_result"
    }
   ],
   "source": [
    "# 피쳐, 타겟 데이터 저장\n",
    "X = raw_wine.data # 피쳐 데이터를 저장한다.\n",
    "y = raw_wine.target # 타겟 데이터를 저장한다.\n",
    "# 총 13개의 피쳐가 사용되는데, 이는 신경망을 생성할 때 사용된다. \n",
    "X.shape"
   ]
  },
  {
   "cell_type": "code",
   "execution_count": 5,
   "id": "95171774",
   "metadata": {},
   "outputs": [
    {
     "name": "stdout",
     "output_type": "stream",
     "text": [
      "{0, 1, 2}\n"
     ]
    }
   ],
   "source": [
    "# 타겟 데이터 종류 확인\n",
    "# 타겟 데이터 종류를 확인함으로써 분류 문제인지 회귀 문제인지 파악할 수 있고, 분류 문제라면 몇가지 클래스로 구분되는지 알 수 있다.\n",
    "print(set(y))  # set 때려서 이렇게 몇개 안나오면 분류임. 보스턴 집값처럼 쫘라락 나오면 회귀."
   ]
  },
  {
   "cell_type": "code",
   "execution_count": 6,
   "id": "357510f5",
   "metadata": {},
   "outputs": [
    {
     "name": "stdout",
     "output_type": "stream",
     "text": [
      "[[1. 0. 0.]\n",
      " [1. 0. 0.]\n",
      " [1. 0. 0.]\n",
      " [1. 0. 0.]\n",
      " [1. 0. 0.]\n",
      " [1. 0. 0.]\n",
      " [1. 0. 0.]\n",
      " [1. 0. 0.]\n",
      " [1. 0. 0.]\n",
      " [1. 0. 0.]\n",
      " [1. 0. 0.]\n",
      " [1. 0. 0.]\n",
      " [1. 0. 0.]\n",
      " [1. 0. 0.]\n",
      " [1. 0. 0.]\n",
      " [1. 0. 0.]\n",
      " [1. 0. 0.]\n",
      " [1. 0. 0.]\n",
      " [1. 0. 0.]\n",
      " [1. 0. 0.]\n",
      " [1. 0. 0.]\n",
      " [1. 0. 0.]\n",
      " [1. 0. 0.]\n",
      " [1. 0. 0.]\n",
      " [1. 0. 0.]\n",
      " [1. 0. 0.]\n",
      " [1. 0. 0.]\n",
      " [1. 0. 0.]\n",
      " [1. 0. 0.]\n",
      " [1. 0. 0.]\n",
      " [1. 0. 0.]\n",
      " [1. 0. 0.]\n",
      " [1. 0. 0.]\n",
      " [1. 0. 0.]\n",
      " [1. 0. 0.]\n",
      " [1. 0. 0.]\n",
      " [1. 0. 0.]\n",
      " [1. 0. 0.]\n",
      " [1. 0. 0.]\n",
      " [1. 0. 0.]\n",
      " [1. 0. 0.]\n",
      " [1. 0. 0.]\n",
      " [1. 0. 0.]\n",
      " [1. 0. 0.]\n",
      " [1. 0. 0.]\n",
      " [1. 0. 0.]\n",
      " [1. 0. 0.]\n",
      " [1. 0. 0.]\n",
      " [1. 0. 0.]\n",
      " [1. 0. 0.]\n",
      " [1. 0. 0.]\n",
      " [1. 0. 0.]\n",
      " [1. 0. 0.]\n",
      " [1. 0. 0.]\n",
      " [1. 0. 0.]\n",
      " [1. 0. 0.]\n",
      " [1. 0. 0.]\n",
      " [1. 0. 0.]\n",
      " [1. 0. 0.]\n",
      " [0. 1. 0.]\n",
      " [0. 1. 0.]\n",
      " [0. 1. 0.]\n",
      " [0. 1. 0.]\n",
      " [0. 1. 0.]\n",
      " [0. 1. 0.]\n",
      " [0. 1. 0.]\n",
      " [0. 1. 0.]\n",
      " [0. 1. 0.]\n",
      " [0. 1. 0.]\n",
      " [0. 1. 0.]\n",
      " [0. 1. 0.]\n",
      " [0. 1. 0.]\n",
      " [0. 1. 0.]\n",
      " [0. 1. 0.]\n",
      " [0. 1. 0.]\n",
      " [0. 1. 0.]\n",
      " [0. 1. 0.]\n",
      " [0. 1. 0.]\n",
      " [0. 1. 0.]\n",
      " [0. 1. 0.]\n",
      " [0. 1. 0.]\n",
      " [0. 1. 0.]\n",
      " [0. 1. 0.]\n",
      " [0. 1. 0.]\n",
      " [0. 1. 0.]\n",
      " [0. 1. 0.]\n",
      " [0. 1. 0.]\n",
      " [0. 1. 0.]\n",
      " [0. 1. 0.]\n",
      " [0. 1. 0.]\n",
      " [0. 1. 0.]\n",
      " [0. 1. 0.]\n",
      " [0. 1. 0.]\n",
      " [0. 1. 0.]\n",
      " [0. 1. 0.]\n",
      " [0. 1. 0.]\n",
      " [0. 1. 0.]\n",
      " [0. 1. 0.]\n",
      " [0. 1. 0.]\n",
      " [0. 1. 0.]\n",
      " [0. 1. 0.]\n",
      " [0. 1. 0.]\n",
      " [0. 1. 0.]\n",
      " [0. 1. 0.]\n",
      " [0. 1. 0.]\n",
      " [0. 1. 0.]\n",
      " [0. 1. 0.]\n",
      " [0. 1. 0.]\n",
      " [0. 1. 0.]\n",
      " [0. 1. 0.]\n",
      " [0. 1. 0.]\n",
      " [0. 1. 0.]\n",
      " [0. 1. 0.]\n",
      " [0. 1. 0.]\n",
      " [0. 1. 0.]\n",
      " [0. 1. 0.]\n",
      " [0. 1. 0.]\n",
      " [0. 1. 0.]\n",
      " [0. 1. 0.]\n",
      " [0. 1. 0.]\n",
      " [0. 1. 0.]\n",
      " [0. 1. 0.]\n",
      " [0. 1. 0.]\n",
      " [0. 1. 0.]\n",
      " [0. 1. 0.]\n",
      " [0. 1. 0.]\n",
      " [0. 1. 0.]\n",
      " [0. 1. 0.]\n",
      " [0. 1. 0.]\n",
      " [0. 1. 0.]\n",
      " [0. 0. 1.]\n",
      " [0. 0. 1.]\n",
      " [0. 0. 1.]\n",
      " [0. 0. 1.]\n",
      " [0. 0. 1.]\n",
      " [0. 0. 1.]\n",
      " [0. 0. 1.]\n",
      " [0. 0. 1.]\n",
      " [0. 0. 1.]\n",
      " [0. 0. 1.]\n",
      " [0. 0. 1.]\n",
      " [0. 0. 1.]\n",
      " [0. 0. 1.]\n",
      " [0. 0. 1.]\n",
      " [0. 0. 1.]\n",
      " [0. 0. 1.]\n",
      " [0. 0. 1.]\n",
      " [0. 0. 1.]\n",
      " [0. 0. 1.]\n",
      " [0. 0. 1.]\n",
      " [0. 0. 1.]\n",
      " [0. 0. 1.]\n",
      " [0. 0. 1.]\n",
      " [0. 0. 1.]\n",
      " [0. 0. 1.]\n",
      " [0. 0. 1.]\n",
      " [0. 0. 1.]\n",
      " [0. 0. 1.]\n",
      " [0. 0. 1.]\n",
      " [0. 0. 1.]\n",
      " [0. 0. 1.]\n",
      " [0. 0. 1.]\n",
      " [0. 0. 1.]\n",
      " [0. 0. 1.]\n",
      " [0. 0. 1.]\n",
      " [0. 0. 1.]\n",
      " [0. 0. 1.]\n",
      " [0. 0. 1.]\n",
      " [0. 0. 1.]\n",
      " [0. 0. 1.]\n",
      " [0. 0. 1.]\n",
      " [0. 0. 1.]\n",
      " [0. 0. 1.]\n",
      " [0. 0. 1.]\n",
      " [0. 0. 1.]\n",
      " [0. 0. 1.]\n",
      " [0. 0. 1.]\n",
      " [0. 0. 1.]]\n"
     ]
    }
   ],
   "source": [
    "# 타겟 데이터 원-핫 인코딩\n",
    "from tensorflow.keras.utils import to_categorical # 원-핫 인코딩을 사용하기 위해 import 함\n",
    "y_hot = to_categorical(y)  # 타겟 데이터를 넣어서 원-핫 인코딩을 실행한다.\n",
    "print(y_hot)"
   ]
  },
  {
   "cell_type": "code",
   "execution_count": 7,
   "id": "8234e53f",
   "metadata": {},
   "outputs": [
    {
     "name": "stdout",
     "output_type": "stream",
     "text": [
      "(133, 13) (133, 3) (45, 13) (45, 3)\n"
     ]
    }
   ],
   "source": [
    "# 트레이닝, 테스트 데이터 분할\n",
    "from sklearn.model_selection import train_test_split # 트레이닝, 테스트 데이터 분할을 위해 import 한다.\n",
    "X_tn, X_te, y_tn, y_te = train_test_split(X, y_hot, random_state=1)\n",
    "print(X_tn.shape, y_tn.shape, X_te.shape, y_te.shape) # 트레이닝 데이터와 테스트 데이터로 분할한다."
   ]
  },
  {
   "cell_type": "code",
   "execution_count": 8,
   "id": "dc83661c",
   "metadata": {},
   "outputs": [
    {
     "name": "stdout",
     "output_type": "stream",
     "text": [
      "피쳐 개수: 13, 클래스 개수: 3\n",
      "Model: \"sequential\"\n",
      "_________________________________________________________________\n",
      " Layer (type)                Output Shape              Param #   \n",
      "=================================================================\n",
      " dense (Dense)               (None, 20)                280       \n",
      "                                                                 \n",
      " batch_normalization (BatchN  (None, 20)               80        \n",
      " ormalization)                                                   \n",
      "                                                                 \n",
      " activation (Activation)     (None, 20)                0         \n",
      "                                                                 \n",
      " dense_1 (Dense)             (None, 3)                 63        \n",
      "                                                                 \n",
      " activation_1 (Activation)   (None, 3)                 0         \n",
      "                                                                 \n",
      "=================================================================\n",
      "Total params: 423\n",
      "Trainable params: 383\n",
      "Non-trainable params: 40\n",
      "_________________________________________________________________\n"
     ]
    }
   ],
   "source": [
    "# 시퀀스 API 신경망 생성\n",
    "from tensorflow.keras.models import Sequential  # 시퀀스 API 신경망을 생성하기 위해 import 한다.\n",
    "from tensorflow.keras.layers import Dense # 신경망에 추가할 완전 연결 layer를 생성하기 위해 import 한다. \n",
    "from tensorflow.keras.layers import BatchNormalization  # 배치 정규화를 layer를 생성하기 위해 import 한다. \n",
    "from tensorflow.keras.layers import Activation  # 활성화 함수 layer를 생성하기 위해 import 한다. \n",
    "\n",
    "# 신경망에 사용되는 피쳐 개수(n)와 클래스 개수(c)를 지정한다.\n",
    "n = X_tn.shape[1]\n",
    "c = len(set(y))\n",
    "print('피쳐 개수: {}, 클래스 개수: {}'.format(n, c))\n",
    "epoch = 50\n",
    "\n",
    "# Sequential 객체를 선언 후 Sequential 모델에 add() 메소드로 layer를 추가해서 쌓아올린다. \n",
    "model = Sequential()  # 신경망 모델을 만든다. \n",
    "# units 속성: layer의 출력 개수(차원)를 지정  /  activation 속성: 활성화 함수를 지정해서 Dense layer(완전 연결 레이어)를 만든다. \n",
    "# input_dim 속성으로 입력 데이터(피쳐)의 차원을 지정한다.\n",
    "model.add(Dense(input_dim=n, units=20)) # 신경망 모델에 입력 layer를 만든다. \n",
    "model.add(BatchNormalization()) # 신경망 모델에 배치 정규화 layer를 만든다.  \n",
    "model.add(Activation('relu')) # ReLu 활성화 함수 layer를 추가한다. (활성화 함수는 summary에 추가 되진 않음)\n",
    "# 분류 신경망은 구분해야 할 클래스 개수만큼 출력 노드 개수를 설정한다. \n",
    "model.add(Dense(units=c)) # 신경망 모델에 출력 layer를 만든다. \n",
    "model.add(Activation('softmax')) # softmax 활성화 함수 layer를 추가한다. (활성화 함수는 summary에 추가 되진 않음)\n",
    "model.summary()"
   ]
  },
  {
   "cell_type": "code",
   "execution_count": 9,
   "id": "502ad56f",
   "metadata": {},
   "outputs": [],
   "source": [
    "# 모델 컴파일 \n",
    "# loss 속성에 손실(비용, 오차)함수를 지정하는데 이진 분류 문제(암 데이터) binary_crossentropy를 지정하고, 3개 이상의 클래스로 분류하는 다중 분류 문제에서는 categorical_crossentropy\n",
    "# optimizer 속성에 최적화 함수(일반적으로 adam)를 지정한다. \n",
    "# metrics 속성에 평가 기준을 지정한다. \n",
    "model.compile(loss='categorical_crossentropy', optimizer='adam', metrics=['accuracy'])"
   ]
  },
  {
   "cell_type": "code",
   "execution_count": 10,
   "id": "00a5811b",
   "metadata": {},
   "outputs": [
    {
     "name": "stdout",
     "output_type": "stream",
     "text": [
      "Epoch 1/50\n",
      "27/27 [==============================] - 1s 2ms/step - loss: 1.2744 - accuracy: 0.4286\n",
      "Epoch 2/50\n",
      "27/27 [==============================] - 0s 2ms/step - loss: 1.0653 - accuracy: 0.4135\n",
      "Epoch 3/50\n",
      "27/27 [==============================] - 0s 2ms/step - loss: 0.9098 - accuracy: 0.5263\n",
      "Epoch 4/50\n",
      "27/27 [==============================] - 0s 2ms/step - loss: 0.8775 - accuracy: 0.5113\n",
      "Epoch 5/50\n",
      "27/27 [==============================] - 0s 2ms/step - loss: 0.7509 - accuracy: 0.7068\n",
      "Epoch 6/50\n",
      "27/27 [==============================] - 0s 2ms/step - loss: 0.6915 - accuracy: 0.7669\n",
      "Epoch 7/50\n",
      "27/27 [==============================] - 0s 2ms/step - loss: 0.7509 - accuracy: 0.7218\n",
      "Epoch 8/50\n",
      "27/27 [==============================] - 0s 2ms/step - loss: 0.7074 - accuracy: 0.7143\n",
      "Epoch 9/50\n",
      "27/27 [==============================] - 0s 2ms/step - loss: 0.5937 - accuracy: 0.8271\n",
      "Epoch 10/50\n",
      "27/27 [==============================] - 0s 2ms/step - loss: 0.6229 - accuracy: 0.7594\n",
      "Epoch 11/50\n",
      "27/27 [==============================] - 0s 2ms/step - loss: 0.5663 - accuracy: 0.8346\n",
      "Epoch 12/50\n",
      "27/27 [==============================] - 0s 1ms/step - loss: 0.5118 - accuracy: 0.8045\n",
      "Epoch 13/50\n",
      "27/27 [==============================] - 0s 1ms/step - loss: 0.5207 - accuracy: 0.8045\n",
      "Epoch 14/50\n",
      "27/27 [==============================] - 0s 2ms/step - loss: 0.5251 - accuracy: 0.8271\n",
      "Epoch 15/50\n",
      "27/27 [==============================] - 0s 2ms/step - loss: 0.5257 - accuracy: 0.8045\n",
      "Epoch 16/50\n",
      "27/27 [==============================] - 0s 2ms/step - loss: 0.5191 - accuracy: 0.8045\n",
      "Epoch 17/50\n",
      "27/27 [==============================] - 0s 2ms/step - loss: 0.4677 - accuracy: 0.8647\n",
      "Epoch 18/50\n",
      "27/27 [==============================] - 0s 1ms/step - loss: 0.5638 - accuracy: 0.7970\n",
      "Epoch 19/50\n",
      "27/27 [==============================] - 0s 1ms/step - loss: 0.4597 - accuracy: 0.8421\n",
      "Epoch 20/50\n",
      "27/27 [==============================] - 0s 1ms/step - loss: 0.4668 - accuracy: 0.8346\n",
      "Epoch 21/50\n",
      "27/27 [==============================] - 0s 1ms/step - loss: 0.4551 - accuracy: 0.8571\n",
      "Epoch 22/50\n",
      "27/27 [==============================] - 0s 1ms/step - loss: 0.4041 - accuracy: 0.8722\n",
      "Epoch 23/50\n",
      "27/27 [==============================] - 0s 2ms/step - loss: 0.4279 - accuracy: 0.8571\n",
      "Epoch 24/50\n",
      "27/27 [==============================] - 0s 2ms/step - loss: 0.5210 - accuracy: 0.8045\n",
      "Epoch 25/50\n",
      "27/27 [==============================] - 0s 1ms/step - loss: 0.4479 - accuracy: 0.8571\n",
      "Epoch 26/50\n",
      "27/27 [==============================] - 0s 2ms/step - loss: 0.4841 - accuracy: 0.7970\n",
      "Epoch 27/50\n",
      "27/27 [==============================] - 0s 1ms/step - loss: 0.3546 - accuracy: 0.8872\n",
      "Epoch 28/50\n",
      "27/27 [==============================] - 0s 2ms/step - loss: 0.5166 - accuracy: 0.7744\n",
      "Epoch 29/50\n",
      "27/27 [==============================] - 0s 1ms/step - loss: 0.4198 - accuracy: 0.8647\n",
      "Epoch 30/50\n",
      "27/27 [==============================] - 0s 1ms/step - loss: 0.4340 - accuracy: 0.8722\n",
      "Epoch 31/50\n",
      "27/27 [==============================] - 0s 1ms/step - loss: 0.5279 - accuracy: 0.8045\n",
      "Epoch 32/50\n",
      "27/27 [==============================] - 0s 1ms/step - loss: 0.4775 - accuracy: 0.8271\n",
      "Epoch 33/50\n",
      "27/27 [==============================] - 0s 1ms/step - loss: 0.4713 - accuracy: 0.8195\n",
      "Epoch 34/50\n",
      "27/27 [==============================] - 0s 1ms/step - loss: 0.4413 - accuracy: 0.8271\n",
      "Epoch 35/50\n",
      "27/27 [==============================] - 0s 1ms/step - loss: 0.5412 - accuracy: 0.7895\n",
      "Epoch 36/50\n",
      "27/27 [==============================] - 0s 1ms/step - loss: 0.4854 - accuracy: 0.8271\n",
      "Epoch 37/50\n",
      "27/27 [==============================] - 0s 1ms/step - loss: 0.3765 - accuracy: 0.8647\n",
      "Epoch 38/50\n",
      "27/27 [==============================] - 0s 1ms/step - loss: 0.4665 - accuracy: 0.8271\n",
      "Epoch 39/50\n",
      "27/27 [==============================] - 0s 1ms/step - loss: 0.3060 - accuracy: 0.8872\n",
      "Epoch 40/50\n",
      "27/27 [==============================] - 0s 1ms/step - loss: 0.4483 - accuracy: 0.8496\n",
      "Epoch 41/50\n",
      "27/27 [==============================] - 0s 1ms/step - loss: 0.3926 - accuracy: 0.8571\n",
      "Epoch 42/50\n",
      "27/27 [==============================] - 0s 1ms/step - loss: 0.4713 - accuracy: 0.8271\n",
      "Epoch 43/50\n",
      "27/27 [==============================] - 0s 1ms/step - loss: 0.4418 - accuracy: 0.8045\n",
      "Epoch 44/50\n",
      "27/27 [==============================] - 0s 1ms/step - loss: 0.3965 - accuracy: 0.8797\n",
      "Epoch 45/50\n",
      "27/27 [==============================] - 0s 2ms/step - loss: 0.4933 - accuracy: 0.8120\n",
      "Epoch 46/50\n",
      "27/27 [==============================] - 0s 1ms/step - loss: 0.4030 - accuracy: 0.8571\n",
      "Epoch 47/50\n",
      "27/27 [==============================] - 0s 1ms/step - loss: 0.4751 - accuracy: 0.8195\n",
      "Epoch 48/50\n",
      "27/27 [==============================] - 0s 1ms/step - loss: 0.3396 - accuracy: 0.8947\n",
      "Epoch 49/50\n",
      "27/27 [==============================] - 0s 1ms/step - loss: 0.2890 - accuracy: 0.8797\n",
      "Epoch 50/50\n",
      "27/27 [==============================] - 0s 1ms/step - loss: 0.3919 - accuracy: 0.8271\n"
     ]
    }
   ],
   "source": [
    "# 신경망 학습\n",
    "# 트레이닝 피쳐 데이터(X_tn)와 트레이닝 데이터에 따른 타겟 데이터(y_tn)를 지정하고 epochs 속성에 학습 횟수를 batch_size 속성에 하나의 미니 배치에 속하는 데이터의 개수를 지정한다.\n",
    "hist = model.fit(X_tn, y_tn, epochs=epoch, batch_size=5)"
   ]
  },
  {
   "cell_type": "code",
   "execution_count": 11,
   "id": "1aa3bff3",
   "metadata": {},
   "outputs": [
    {
     "name": "stdout",
     "output_type": "stream",
     "text": [
      "5/5 [==============================] - 0s 1ms/step - loss: 0.2619 - accuracy: 0.9398\n",
      "[0.2619438171386719, 0.9398496150970459]\n",
      "2/2 [==============================] - 0s 997us/step - loss: 0.3305 - accuracy: 0.8889\n",
      "[0.330538272857666, 0.8888888955116272]\n"
     ]
    }
   ],
   "source": [
    "# 신경망 학습 평가 \n",
    "print(model.evaluate(X_tn, y_tn)) # 트레이닝 피쳐 데이터를 트레이닝 피처 타겟 데이터와 학습 평가 \n",
    "print(model.evaluate(X_te, y_te)) # 트레이닝 피쳐 데이터를 트레이닝 피처 타겟 데이터와 학습 평가 "
   ]
  },
  {
   "cell_type": "code",
   "execution_count": 12,
   "id": "6ab7dc69",
   "metadata": {
    "scrolled": true
   },
   "outputs": [
    {
     "name": "stdout",
     "output_type": "stream",
     "text": [
      "[ 1  2  3  4  5  6  7  8  9 10 11 12 13 14 15 16 17 18 19 20 21 22 23 24\n",
      " 25 26 27 28 29 30 31 32 33 34 35 36 37 38 39 40 41 42 43 44 45 46 47 48\n",
      " 49 50]\n",
      "[0.4285714328289032, 0.4135338366031647, 0.5263158082962036, 0.5112782120704651, 0.7067669034004211, 0.7669172883033752, 0.7218044996261597, 0.7142857313156128, 0.8270676732063293, 0.7593985199928284, 0.8345864415168762, 0.8045112490653992, 0.8045112490653992, 0.8270676732063293, 0.8045112490653992, 0.8045112490653992, 0.8646616339683533, 0.7969924807548523, 0.8421052694320679, 0.8345864415168762, 0.8571428656578064, 0.8721804618835449, 0.8571428656578064, 0.8045112490653992, 0.8571428656578064, 0.7969924807548523, 0.8872180581092834, 0.7744361162185669, 0.8646616339683533, 0.8721804618835449, 0.8045112490653992, 0.8270676732063293, 0.8195488452911377, 0.8270676732063293, 0.7894737124443054, 0.8270676732063293, 0.8646616339683533, 0.8270676732063293, 0.8872180581092834, 0.8496240377426147, 0.8571428656578064, 0.8270676732063293, 0.8045112490653992, 0.8796992301940918, 0.8120300769805908, 0.8571428656578064, 0.8195488452911377, 0.8947368264198303, 0.8796992301940918, 0.8270676732063293]\n"
     ]
    }
   ],
   "source": [
    "# 정확도 및 손실 정도 시각화 준비 \n",
    "epoch = np.arange(1, epoch + 1)\n",
    "print(epoch)\n",
    "accuracy = hist.history['accuracy'] # 모델 실행 결과에서 정확도만 얻어온다. \n",
    "print(accuracy)\n",
    "loss = hist.history['loss'] # 모델 실행 결과에서 오차만 얻어온다. \n",
    "# print(loss)"
   ]
  },
  {
   "cell_type": "code",
   "execution_count": 13,
   "id": "b42b8f41",
   "metadata": {},
   "outputs": [
    {
     "data": {
      "image/png": "[encoded data removed]",
      "text/plain": [
       "<Figure size 800x600 with 1 Axes>"
      ]
     },
     "metadata": {},
     "output_type": "display_data"
    }
   ],
   "source": [
    "# 학습 정확도 시각화 \n",
    "import matplotlib.pyplot as plt\n",
    "plt.figure(figsize=(8,6))\n",
    "plt.plot(epoch, accuracy, label='accuracy', marker='o')\n",
    "plt.xlabel('epoch')\n",
    "plt.ylabel('accuracy')\n",
    "plt.legend()\n",
    "plt.show()"
   ]
  },
  {
   "cell_type": "code",
   "execution_count": 14,
   "id": "86cea1d7",
   "metadata": {},
   "outputs": [
    {
     "data": {
      "image/png": "[encoded data removed]",
      "text/plain": [
       "<Figure size 800x600 with 1 Axes>"
      ]
     },
     "metadata": {},
     "output_type": "display_data"
    }
   ],
   "source": [
    "# 손실 시각화 \n",
    "import matplotlib.pyplot as plt\n",
    "plt.figure(figsize=(8,6))\n",
    "plt.plot(epoch, accuracy, label='accuracy', marker='o')\n",
    "plt.plot(epoch, loss,'r', label='loss', marker='o')\n",
    "plt.xlabel('epoch')\n",
    "plt.ylabel('accuracy')\n",
    "plt.legend()\n",
    "plt.show()"
   ]
  },
  {
   "cell_type": "code",
   "execution_count": null,
   "id": "b0886b23",
   "metadata": {},
   "outputs": [],
   "source": []
  },
  {
   "cell_type": "code",
   "execution_count": null,
   "id": "0ea6eed5",
   "metadata": {},
   "outputs": [],
   "source": []
  },
  {
   "cell_type": "code",
   "execution_count": null,
   "id": "25f61c81",
   "metadata": {},
   "outputs": [],
   "source": []
  },
  {
   "cell_type": "code",
   "execution_count": null,
   "id": "86f900a4",
   "metadata": {},
   "outputs": [],
   "source": []
  },
  {
   "cell_type": "code",
   "execution_count": null,
   "id": "9afb9ab8",
   "metadata": {},
   "outputs": [],
   "source": []
  },
  {
   "cell_type": "code",
   "execution_count": null,
   "id": "a7a95089",
   "metadata": {},
   "outputs": [],
   "source": []
  },
  {
   "cell_type": "code",
   "execution_count": null,
   "id": "c9b4f5cb",
   "metadata": {},
   "outputs": [],
   "source": []
  },
  {
   "cell_type": "code",
   "execution_count": null,
   "id": "a41153cb",
   "metadata": {},
   "outputs": [],
   "source": []
  }
 ],
 "metadata": {
  "kernelspec": {
   "display_name": "py37",
   "language": "python",
   "name": "py37"
  },
  "language_info": {
   "codemirror_mode": {
    "name": "ipython",
    "version": 3
   },
   "file_extension": ".py",
   "mimetype": "text/x-python",
   "name": "python",
   "nbconvert_exporter": "python",
   "pygments_lexer": "ipython3",
   "version": "3.7.16"
  }
 },
 "nbformat": 4,
 "nbformat_minor": 5
}
