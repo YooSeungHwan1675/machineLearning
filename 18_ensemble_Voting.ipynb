{
 "cells": [
  {
   "cell_type": "code",
   "execution_count": 1,
   "id": "3e65ff75",
   "metadata": {},
   "outputs": [],
   "source": [
    "%config Completer.use_jedi = False\n",
    "import warnings\n",
    "warnings.filterwarnings(action='ignore')\n",
    "import pandas as pd\n",
    "import numpy as np\n",
    "import matplotlib.pyplot as plt\n",
    "import seaborn as sns\n",
    "from sklearn.model_selection import train_test_split\n",
    "from sklearn.metrics import accuracy_score\n",
    "from sklearn.metrics import confusion_matrix\n",
    "from sklearn.metrics import classification_report"
   ]
  },
  {
   "cell_type": "code",
   "execution_count": 2,
   "id": "b83ffa08",
   "metadata": {},
   "outputs": [],
   "source": [
    "from sklearn.datasets import load_digits # MNIST 손글씨 데이터셋을 사용하기 위해 import 한다.\n",
    "from sklearn.neighbors import KNeighborsClassifier # kNN\n",
    "from sklearn.svm import SVC # SVM\n",
    "from sklearn.tree import DecisionTreeClassifier # 의사결정 트리\n",
    "# 하드/소프트 보팅을 계산하기 위해 import 한다.\n",
    "from sklearn.ensemble import VotingClassifier \n"
   ]
  },
  {
   "cell_type": "markdown",
   "id": "9d87216b",
   "metadata": {},
   "source": [
    "손글씨 데이터 불러오기"
   ]
  },
  {
   "cell_type": "code",
   "execution_count": 3,
   "id": "9adf64e4",
   "metadata": {},
   "outputs": [],
   "source": [
    "mnist = load_digits() # 사이킷 런이 제공하는 MNIST 손글씨 데이터를 불러온다.\n",
    "features, labels = mnist.data, mnist.target"
   ]
  },
  {
   "cell_type": "code",
   "execution_count": 4,
   "id": "3423f58e",
   "metadata": {},
   "outputs": [
    {
     "name": "stdout",
     "output_type": "stream",
     "text": [
      "학습데이터 개수: 1437, 테스트데이터 개수: 360\n"
     ]
    }
   ],
   "source": [
    "X_train, X_test, y_train, y_test = train_test_split(features, labels, train_size=0.8)\n",
    "print('학습데이터 개수: {}, 테스트데이터 개수: {}'.format(X_train.shape[0], X_test.shape[0]))"
   ]
  },
  {
   "cell_type": "markdown",
   "id": "bfafbb23",
   "metadata": {},
   "source": [
    "단일 모델의 정확도 측정  \n",
    "앙상블 정확도를 측정하기에 앞서서 단일 모델들의 정확도를 KNN ,SCV 의사 결정 트리 분류기를 만들어 정확도를 계산한다."
   ]
  },
  {
   "cell_type": "code",
   "execution_count": 5,
   "id": "a5d4c1aa",
   "metadata": {},
   "outputs": [
    {
     "name": "stdout",
     "output_type": "stream",
     "text": [
      "정확도: 83.06%\n"
     ]
    }
   ],
   "source": [
    "# KNN\n",
    "knn = KNeighborsClassifier(n_neighbors=299).fit(X_train,y_train)\n",
    "knn_predict = knn.predict(X_test)\n",
    "print('정확도: {:6.2%}'.format(accuracy_score(y_test,knn_predict)))"
   ]
  },
  {
   "cell_type": "code",
   "execution_count": 6,
   "id": "9550f462",
   "metadata": {
    "scrolled": true
   },
   "outputs": [
    {
     "name": "stdout",
     "output_type": "stream",
     "text": [
      "정확도: 89.17%\n"
     ]
    }
   ],
   "source": [
    "# svm\n",
    "svm = SVC(C=0.1,gamma=0.003,random_state=35, probability=True).fit(X_train,y_train)\n",
    "svm_predict = svm.predict(X_test)\n",
    "print('정확도: {:6.2%}'.format(accuracy_score(y_test, svm_predict)))"
   ]
  },
  {
   "cell_type": "code",
   "execution_count": 7,
   "id": "6d242a52",
   "metadata": {},
   "outputs": [
    {
     "name": "stdout",
     "output_type": "stream",
     "text": [
      "정확도 : 85.56%\n"
     ]
    }
   ],
   "source": [
    "# 의사 결정 트리\n",
    "dtree = DecisionTreeClassifier(random_state=35, max_depth=8).fit(X_train,y_train)\n",
    "dtree_predict = dtree.predict(X_test)\n",
    "print('정확도 : {:6.2%}'.format(accuracy_score(y_test,dtree_predict)))"
   ]
  },
  {
   "cell_type": "markdown",
   "id": "11f30473",
   "metadata": {},
   "source": [
    "하드 보팅  \n",
    "일반적인 투표와 같이 각 분류기의 예측값들을 모아 가장 많은 투표를 받은 예측값으로 최종 결론을 내린다."
   ]
  },
  {
   "cell_type": "code",
   "execution_count": 8,
   "id": "cfb9e05b",
   "metadata": {
    "scrolled": true
   },
   "outputs": [
    {
     "name": "stdout",
     "output_type": "stream",
     "text": [
      "하드 보팅 정확도 : 91.11%\n"
     ]
    }
   ],
   "source": [
    "hv_clf = VotingClassifier(estimators=[('knn', knn), ('svm', svm), ('decision_tree', dtree)], \n",
    "                          weights=[1,1,1] , voting='hard').fit(X_train,y_train)\n",
    "hv_predict = hv_clf.predict(X_test)\n",
    "print('하드 보팅 정확도 : {:6.2%}'.format(accuracy_score(y_test,hv_predict)))"
   ]
  },
  {
   "cell_type": "markdown",
   "id": "aea44770",
   "metadata": {},
   "source": [
    "소프트 보팅  \n",
    "각 분류값별 확률을 더해준 값을 점수로 사용해 최대 점수를 가진 분류값으로 결론을 내린다.\n",
    "\n",
    "확률 합계"
   ]
  },
  {
   "cell_type": "code",
   "execution_count": 9,
   "id": "1fd66a9d",
   "metadata": {},
   "outputs": [
    {
     "name": "stdout",
     "output_type": "stream",
     "text": [
      "[0.00334448 0.17391304 0.09698997 0.04013378 0.01672241 0.30769231\n",
      " 0.00668896 0.14046823 0.17391304 0.04013378]\n",
      "확률 합계 : 1.0\n"
     ]
    }
   ],
   "source": [
    "# predict_proba() 메소드로 분류 모델이 각 클래스(타겟 , 레이블, 실제값)의 확률을 계산한다.\n",
    "knn_probar = knn.predict_proba(X_test)\n",
    "# print(len(knn_probar))\n",
    "print(knn_probar[0])\n",
    "print('확률 합계 : {}'.format(knn_probar[0].sum()))"
   ]
  },
  {
   "cell_type": "code",
   "execution_count": 10,
   "id": "d7a00b92",
   "metadata": {},
   "outputs": [
    {
     "name": "stdout",
     "output_type": "stream",
     "text": [
      "[0.01267948 0.09863469 0.04768392 0.03334157 0.03255262 0.31947241\n",
      " 0.01463234 0.06373372 0.25506758 0.12220168]\n",
      "확률 합계 : 1.0000000000000002\n"
     ]
    }
   ],
   "source": [
    "svm_probar = svm.predict_proba(X_test)\n",
    "print(svm_probar[0])\n",
    "print('확률 합계 : {}'.format(svm_probar[0].sum())) # 부동소수점연산을 하다보면 0.00000000000002 or 3 이 나올수 있다 ."
   ]
  },
  {
   "cell_type": "code",
   "execution_count": 11,
   "id": "78767a3a",
   "metadata": {},
   "outputs": [
    {
     "name": "stdout",
     "output_type": "stream",
     "text": [
      "[0. 0. 0. 0. 0. 0. 0. 0. 0. 1.]\n",
      "확률 합계 : 1.0\n"
     ]
    }
   ],
   "source": [
    "dtree_probar = dtree.predict_proba(X_test)\n",
    "print(dtree_probar[0])\n",
    "print('확률 합계 : {}'.format(dtree_probar[0].sum()))"
   ]
  },
  {
   "cell_type": "code",
   "execution_count": 12,
   "id": "3aa8f781",
   "metadata": {},
   "outputs": [
    {
     "name": "stdout",
     "output_type": "stream",
     "text": [
      "소프트 보팅 정확도 : 89.17%\n"
     ]
    }
   ],
   "source": [
    "sv_clf = VotingClassifier(estimators=[('knn', knn), ('svm', svm), ('decision_tree', dtree)], \n",
    "                          weights=[1,1,1] , voting='soft').fit(X_train,y_train)\n",
    "sv_predict = sv_clf.predict(X_test)\n",
    "print('소프트 보팅 정확도 : {:6.2%}'.format(accuracy_score(y_test,sv_predict)))"
   ]
  },
  {
   "cell_type": "markdown",
   "id": "fe6ffac4",
   "metadata": {},
   "source": [
    "단일 모델과 앙상블 모델의 정확도 비교 시각화"
   ]
  },
  {
   "cell_type": "code",
   "execution_count": 15,
   "id": "6685af7f",
   "metadata": {},
   "outputs": [
    {
     "data": {
      "image/png": "[encoded data removed]",
      "text/plain": [
       "<Figure size 864x576 with 1 Axes>"
      ]
     },
     "metadata": {
      "needs_background": "light"
     },
     "output_type": "display_data"
    }
   ],
   "source": [
    "plt.figure(figsize=(12,8))\n",
    "x = np.arange(5)\n",
    "plt.bar(x, height=[\n",
    "    accuracy_score(y_test, knn_predict),\n",
    "    accuracy_score(y_test, svm_predict),\n",
    "    accuracy_score(y_test, dtree_predict),\n",
    "    accuracy_score(y_test, hv_predict),\n",
    "    accuracy_score(y_test, sv_predict)\n",
    "])\n",
    "plt.xticks(x,['knn','svm','decision_tree','hard_voting','soft_voting'])\n",
    "plt.show()"
   ]
  },
  {
   "cell_type": "code",
   "execution_count": null,
   "id": "0b72ac1b",
   "metadata": {},
   "outputs": [],
   "source": []
  },
  {
   "cell_type": "code",
   "execution_count": null,
   "id": "3418b3cf",
   "metadata": {},
   "outputs": [],
   "source": []
  }
 ],
 "metadata": {
  "kernelspec": {
   "display_name": "Python 3",
   "language": "python",
   "name": "python3"
  },
  "language_info": {
   "codemirror_mode": {
    "name": "ipython",
    "version": 3
   },
   "file_extension": ".py",
   "mimetype": "text/x-python",
   "name": "python",
   "nbconvert_exporter": "python",
   "pygments_lexer": "ipython3",
   "version": "3.6.8"
  }
 },
 "nbformat": 4,
 "nbformat_minor": 5
}
