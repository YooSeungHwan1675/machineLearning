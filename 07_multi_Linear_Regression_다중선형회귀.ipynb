{
 "cells": [
  {
   "cell_type": "code",
   "execution_count": 1,
   "id": "34230866",
   "metadata": {},
   "outputs": [
    {
     "name": "stdout",
     "output_type": "stream",
     "text": [
      "WARNING:tensorflow:From c:\\python\\lib\\site-packages\\tensorflow\\python\\compat\\v2_compat.py:101: disable_resource_variables (from tensorflow.python.ops.variable_scope) is deprecated and will be removed in a future version.\n",
      "Instructions for updating:\n",
      "non-resource variables are not supported in the long term\n"
     ]
    }
   ],
   "source": [
    "import warnings\n",
    "warnings.filterwarnings(action='ignore')\n",
    "%config Completer.use_jedi = False\n",
    "import tensorflow.compat.v1 as tf\n",
    "tf.disable_v2_behavior()\n",
    "import pandas as pd\n",
    "import numpy as np"
   ]
  },
  {
   "cell_type": "code",
   "execution_count": 2,
   "id": "223b6d3c",
   "metadata": {},
   "outputs": [],
   "source": [
    "data = [[2 ,0 ,81] , [4 , 4 , 93], [6, 2 ,91] , [8,3,97]] # [1x(공부 시간), 2x(과외 시간), y(시험 성적)]\n",
    "x1 = [i[0] for i in data] # 공부 시간\n",
    "x2 = [i[1] for i in data] # 과외 시간\n",
    "y = [i[2] for i in data] # 시험 성적, 실제값"
   ]
  },
  {
   "cell_type": "code",
   "execution_count": 6,
   "id": "be029c74",
   "metadata": {},
   "outputs": [
    {
     "name": "stdout",
     "output_type": "stream",
     "text": [
      "a1 = [4.6351423], a2 = [2.265942], b = [98.41349]\n"
     ]
    }
   ],
   "source": [
    "# 기울기 a1, a2와 y절편 b를 임의로 정한다.\n",
    "a1 = tf.Variable(tf.random_uniform([1], 0, 10)) # 기울기(가중치), 0 ~ 10 사이의 난수\n",
    "a2 = tf.Variable(tf.random_uniform([1], 0, 10)) # 기울기(가중치), 0 ~ 10 사이의 난수\n",
    "b = tf.Variable(tf.random_uniform([1], 0, 100)) # y절편(바이어스), 0 ~ 100 사이의 난수\n",
    "sess = tf.Session()\n",
    "sess.run(tf.global_variables_initializer())\n",
    "print('a1 = {}, a2 = {}, b = {}'.format(sess.run(a1), sess.run(a2), sess.run(b)))"
   ]
  },
  {
   "cell_type": "code",
   "execution_count": 7,
   "id": "3f17dc9b",
   "metadata": {},
   "outputs": [],
   "source": [
    "# 예측성적을 얻기위한 가설(수식)을 만든다.\n",
    "Y = a1 * x1 + a2 * x2 + b\n",
    "# tensorflow에서 실행할 RMSE(평균 제곱근 오차) 수식(오차 함수)을 만든다.\n",
    "rmse = tf.sqrt(tf.reduce_mean(tf.square(Y - y)))\n",
    "# 경사 하강법을 이용해서 RMSE를 최소로 하는 값을 찾는 수식을 만든다.\n",
    "gradient_descent = tf.train.GradientDescentOptimizer(0.1).minimize(rmse)"
   ]
  },
  {
   "cell_type": "code",
   "execution_count": 9,
   "id": "7c39df3c",
   "metadata": {},
   "outputs": [
    {
     "name": "stdout",
     "output_type": "stream",
     "text": [
      "epoch =>    0, RMSE: 62.6394 기울기1:  9.2918 기울기2:  4.2104 y절편: 94.2293\n",
      "epoch =>  200, RMSE:  3.0272 기울기1:  0.4121 기울기2:  1.9052 y절편: 85.3400\n",
      "epoch =>  400, RMSE:  1.8361 기울기1:  1.0336 기울기2:  2.0970 y절편: 79.2623\n",
      "epoch =>  600, RMSE:  1.8370 기울기1:  1.1933 기울기2:  2.1506 y절편: 78.0673\n",
      "epoch =>  800, RMSE:  1.8370 기울기1:  1.2235 기울기2:  2.1610 y절편: 77.8568\n",
      "epoch => 1000, RMSE:  1.8370 기울기1:  1.2289 기울기2:  2.1629 y절편: 77.8196\n",
      "epoch => 1200, RMSE:  1.8370 기울기1:  1.2299 기울기2:  2.1632 y절편: 77.8131\n",
      "epoch => 1400, RMSE:  1.8369 기울기1:  1.2301 기울기2:  2.1633 y절편: 77.8120\n",
      "epoch => 1600, RMSE:  1.8369 기울기1:  1.2301 기울기2:  2.1633 y절편: 77.8120\n",
      "epoch => 1800, RMSE:  1.8369 기울기1:  1.2301 기울기2:  2.1633 y절편: 77.8120\n",
      "epoch => 2000, RMSE:  1.8369 기울기1:  1.2301 기울기2:  2.1633 y절편: 77.8120\n",
      "epoch => 2200, RMSE:  1.8369 기울기1:  1.2301 기울기2:  2.1633 y절편: 77.8120\n",
      "epoch => 2400, RMSE:  1.8369 기울기1:  1.2301 기울기2:  2.1633 y절편: 77.8120\n",
      "epoch => 2600, RMSE:  1.8369 기울기1:  1.2301 기울기2:  2.1633 y절편: 77.8120\n",
      "epoch => 2800, RMSE:  1.8369 기울기1:  1.2301 기울기2:  2.1633 y절편: 77.8120\n",
      "epoch => 3000, RMSE:  1.8369 기울기1:  1.2301 기울기2:  2.1633 y절편: 77.8120\n"
     ]
    }
   ],
   "source": [
    "# 학습 시킨다.\n",
    "import time\n",
    "sess = tf.Session()\n",
    "sess.run(tf.global_variables_initializer())\n",
    "\n",
    "for epoch in range(3001):\n",
    "    sess.run(gradient_descent)\n",
    "    if epoch % 200 == 0:\n",
    "        print('epoch => {:4d}, RMSE: {:7.4f} 기울기1: {:7.4f} 기울기2: {:7.4f} y절편: {:7.4f}'.format(epoch, \n",
    "                       sess.run(rmse), sess.run(a1)[0], sess.run(a2)[0], sess.run(b)[0]))\n",
    "        time.sleep(0.5)"
   ]
  },
  {
   "cell_type": "code",
   "execution_count": null,
   "id": "56cf5f1b",
   "metadata": {},
   "outputs": [],
   "source": []
  }
 ],
 "metadata": {
  "kernelspec": {
   "display_name": "Python 3",
   "language": "python",
   "name": "python3"
  },
  "language_info": {
   "codemirror_mode": {
    "name": "ipython",
    "version": 3
   },
   "file_extension": ".py",
   "mimetype": "text/x-python",
   "name": "python",
   "nbconvert_exporter": "python",
   "pygments_lexer": "ipython3",
   "version": "3.6.8"
  }
 },
 "nbformat": 4,
 "nbformat_minor": 5
}
