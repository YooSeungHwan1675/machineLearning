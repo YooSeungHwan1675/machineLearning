{
 "cells": [
  {
   "cell_type": "code",
   "execution_count": 1,
   "id": "8ebe57dd",
   "metadata": {
    "scrolled": true
   },
   "outputs": [
    {
     "name": "stdout",
     "output_type": "stream",
     "text": [
      "WARNING:tensorflow:From c:\\python\\lib\\site-packages\\tensorflow\\python\\compat\\v2_compat.py:101: disable_resource_variables (from tensorflow.python.ops.variable_scope) is deprecated and will be removed in a future version.\n",
      "Instructions for updating:\n",
      "non-resource variables are not supported in the long term\n"
     ]
    }
   ],
   "source": [
    "import warnings\n",
    "warnings.filterwarnings(action='ignore')\n",
    "%config Completer.use_jedi = False\n",
    "import tensorflow.compat.v1 as tf\n",
    "tf.disable_v2_behavior()"
   ]
  },
  {
   "cell_type": "markdown",
   "id": "4a9d8f80",
   "metadata": {},
   "source": [
    "XOR 연산은 입력 데이터를 X 라고 할경우 [[0,0],[0,1],[1,0],[1,1]] 과 같은 경우의 수가 있다 .  \n",
    "총 4개의 데이터가 각각 2개의 특성을 가지고 있으므로 X는 [4, 2]의 형태로 정의 할 수 있다.  \n",
    "입력값에 따른 출력값 Y는 [[0], [1], [1], [0]]이므로 Y는 [4, 1]의 형태로 정의할 수 있다."
   ]
  },
  {
   "cell_type": "code",
   "execution_count": 2,
   "id": "ab4da7a7",
   "metadata": {},
   "outputs": [],
   "source": [
    "X = tf.placeholder(dtype=tf.float32, shape=[4,2]) # 입력값\n",
    "Y = tf.placeholder(dtype=tf.float32, shape=[4,1]) # 출력값"
   ]
  },
  {
   "cell_type": "markdown",
   "id": "5f4ff974",
   "metadata": {},
   "source": [
    "1번째 히든 레이어에서 2개의 입력(X)과 1개의 편향값(B1)을 받아서 2개의 시그모이드 출력(Z)을 다음 레이어로 전달한다."
   ]
  },
  {
   "cell_type": "code",
   "execution_count": 3,
   "id": "ae1fad6d",
   "metadata": {},
   "outputs": [],
   "source": [
    "# 2개의 입력을 받는 2개의 뉴런을 만든다.  \n",
    "# random_normal()\n",
    "W1 = tf.Variable(tf.random_normal([2, 2]))\n",
    "# 각 뉴런은 1개의 편향값을 가진다.\n",
    "# zeros() 메소드는 모든 원소의 값이 0인 텐서(2차원 이상의 행렬)를 생성한다.\n",
    "B1 = tf.Variable(tf.zeros([2]))\n",
    "# 시그 모이드 함수를 거쳐 출력값으로 Z를 리턴한다 => tf.sigmoid()\n",
    "Z = tf.sigmoid(tf.matmul(X, W1) + B1)"
   ]
  },
  {
   "cell_type": "code",
   "execution_count": 4,
   "id": "2dd84415",
   "metadata": {},
   "outputs": [
    {
     "name": "stdout",
     "output_type": "stream",
     "text": [
      "[[ 0.14013813 -0.4958821 ]\n",
      " [ 0.56394535  0.41079688]]\n",
      "[0. 0.]\n",
      "[[0.5        0.5       ]\n",
      " [0.6373649  0.60127896]\n",
      " [0.5349773  0.3785089 ]\n",
      " [0.66909254 0.47874153]]\n"
     ]
    }
   ],
   "source": [
    "sess = tf.Session()\n",
    "sess.run(tf.global_variables_initializer())\n",
    "print(sess.run(W1))\n",
    "print(sess.run(B1))\n",
    "train_X = [[0, 0], [0, 1], [1, 0], [1, 1]]\n",
    "print(sess.run(Z, feed_dict={X: train_X}))\n",
    "sess.close()"
   ]
  },
  {
   "cell_type": "markdown",
   "id": "295206b3",
   "metadata": {},
   "source": [
    "2번쨰 히든 레이어에서 1번째 히든 레이어의 출력 값인 Z 와 1개의 편향값을 받아서 1개의 시그모이드를 출력(y_hat)한다."
   ]
  },
  {
   "cell_type": "code",
   "execution_count": 5,
   "id": "bdce03fc",
   "metadata": {},
   "outputs": [],
   "source": [
    "# Z를 입력값으로 받는 1개의 뉴런을 만든다. \n",
    "W2 = tf.Variable(tf.random_normal([2,1]))\n",
    "B2 = tf.Variable(tf.zeros([1]))\n",
    "# 시그 모이드 함수를 거쳐 출력값으로 Z를 리턴한다. => tf.sigmoid(W2 * Z + B2)\n",
    "Y_hat = tf.sigmoid(tf.matmul(Z, W2) + B2)"
   ]
  },
  {
   "cell_type": "code",
   "execution_count": 6,
   "id": "842fa99d",
   "metadata": {},
   "outputs": [
    {
     "name": "stdout",
     "output_type": "stream",
     "text": [
      "[[ 0.70742357]\n",
      " [-0.6034921 ]]\n",
      "[0.]\n",
      "[[0.5129885]\n",
      " [0.5395108]\n",
      " [0.5286413]\n",
      " [0.5477651]]\n"
     ]
    }
   ],
   "source": [
    "sess = tf.Session()\n",
    "sess.run(tf.global_variables_initializer())\n",
    "print(sess.run(W2))\n",
    "print(sess.run(B2))\n",
    "print(sess.run(Y_hat, feed_dict={X: train_X}))\n",
    "sess.close()"
   ]
  },
  {
   "cell_type": "markdown",
   "id": "dee00c50",
   "metadata": {},
   "source": [
    "손실 함수로크로스 엔트로피를 사용하고 경사 하강법으로 모델의 매개 변수(가중치, 편향)을 최적화한다."
   ]
  },
  {
   "cell_type": "code",
   "execution_count": 10,
   "id": "55ed103d",
   "metadata": {},
   "outputs": [],
   "source": [
    "# 크로스 엔트로피\n",
    "loss = tf.reduce_mean(\n",
    "    -1 * (Y * tf.log(Y_hat) + (1.0 - Y) * tf.log(1.0 - Y_hat))\n",
    ")\n",
    "# 경사 하강법\n",
    "train_step = tf.train.GradientDescentOptimizer(0.05).minimize(loss)\n",
    "# 모델을 학습하기 위한 데이터를 만든다.\n",
    "train_X = [[0,0],[0,1],[1,0],[1,1]]\n",
    "train_Y = [[0],[1],[1],[0]]"
   ]
  },
  {
   "cell_type": "markdown",
   "id": "67387cc1",
   "metadata": {},
   "source": [
    "학습을 진행한다."
   ]
  },
  {
   "cell_type": "code",
   "execution_count": 16,
   "id": "ce0b4dbf",
   "metadata": {
    "scrolled": true
   },
   "outputs": [
    {
     "name": "stdout",
     "output_type": "stream",
     "text": [
      "학습 데이터: [[0, 0], [0, 1], [1, 0], [1, 1]]\n",
      "================================================================================\n",
      "epoch: 0\n",
      "output\n",
      "[[0.53617847]\n",
      " [0.63918656]\n",
      " [0.44028157]\n",
      " [0.5471509 ]]\n",
      "================================================================================\n",
      "epoch: 5000\n",
      "output\n",
      "[[0.36597103]\n",
      " [0.8508332 ]\n",
      " [0.37187284]\n",
      " [0.35126048]]\n",
      "================================================================================\n",
      "epoch: 10000\n",
      "output\n",
      "[[0.08561283]\n",
      " [0.9020924 ]\n",
      " [0.88641024]\n",
      " [0.07226974]]\n",
      "================================================================================\n",
      "epoch: 15000\n",
      "output\n",
      "[[0.03816473]\n",
      " [0.95250845]\n",
      " [0.9498846 ]\n",
      " [0.03318483]]\n",
      "================================================================================\n",
      "epoch: 20000\n",
      "output\n",
      "[[0.02407479]\n",
      " [0.9693779 ]\n",
      " [0.96833074]\n",
      " [0.02111778]]\n",
      "================================================================================\n",
      "epoch: 25000\n",
      "output\n",
      "[[0.01747382]\n",
      " [0.97753745]\n",
      " [0.9769659 ]\n",
      " [0.01539919]]\n",
      "================================================================================\n",
      "epoch: 30000\n",
      "output\n",
      "[[0.01367426]\n",
      " [0.98230565]\n",
      " [0.98194075]\n",
      " [0.01208818]]\n",
      "================================================================================\n",
      "epoch: 35000\n",
      "output\n",
      "[[0.01121488]\n",
      " [0.9854219 ]\n",
      " [0.98516613]\n",
      " [0.00993684]]\n",
      "================================================================================\n",
      "epoch: 40000\n",
      "output\n",
      "[[0.00949675]\n",
      " [0.9876139 ]\n",
      " [0.9874228 ]\n",
      " [0.00842974]]\n",
      "================================================================================\n",
      "epoch: 45000\n",
      "output\n",
      "[[0.00822982]\n",
      " [0.98923784]\n",
      " [0.9890888 ]\n",
      " [0.00731629]]\n",
      "================================================================================\n",
      "epoch: 50000\n",
      "output\n",
      "[[0.00725734]\n",
      " [0.99048805]\n",
      " [0.9903672 ]\n",
      " [0.00646007]]\n",
      "================================================================================\n"
     ]
    }
   ],
   "source": [
    "with tf.Session() as sess:\n",
    "    sess.run(tf.global_variables_initializer())\n",
    "    print('학습 데이터: {}'.format(train_X))\n",
    "    print('='*80)\n",
    "    \n",
    "    for epoch in range(50001):\n",
    "        sess.run(train_step, feed_dict={X: train_X,Y:train_Y})\n",
    "        if epoch % 5000 == 0:\n",
    "            print('epoch: {}'.format(epoch))\n",
    "            print('output\\n',sess.run(Y_hat,feed_dict={X:train_X, Y:train_Y}), sep='')\n",
    "            print('='*80)"
   ]
  },
  {
   "cell_type": "markdown",
   "id": "945c63c6",
   "metadata": {},
   "source": [
    "학습 결과를 통해 [0, 0], [1, 1]은 상당히 가까운 값을 출력하고 [0, 1], [1, 0]은 1에 상당히 가까운 값을 출력하는것을 확인할 수 있다."
   ]
  },
  {
   "cell_type": "code",
   "execution_count": null,
   "id": "de5fa06e",
   "metadata": {},
   "outputs": [],
   "source": []
  },
  {
   "cell_type": "markdown",
   "id": "7905f992",
   "metadata": {},
   "source": [
    "<img src=\"./images/differ1.png\" align=\"left\">"
   ]
  },
  {
   "cell_type": "code",
   "execution_count": 17,
   "id": "7c8c114a",
   "metadata": {},
   "outputs": [],
   "source": [
    "def diff1(f, x, h=1e-6):\n",
    "    pass"
   ]
  },
  {
   "cell_type": "markdown",
   "id": "7a34030f",
   "metadata": {},
   "source": [
    "미분(Differential) 함수 정의: 대칭 파생(Symmetric derivative)  \n",
    "diff2(미분할 함수, 미분할값Δx)"
   ]
  },
  {
   "cell_type": "markdown",
   "id": "c0bd0a96",
   "metadata": {},
   "source": [
    "<img src=\"./images/differ2.png\" align=\"left\">"
   ]
  },
  {
   "cell_type": "code",
   "execution_count": null,
   "id": "f5beb01c",
   "metadata": {},
   "outputs": [],
   "source": []
  }
 ],
 "metadata": {
  "kernelspec": {
   "display_name": "Python 3",
   "language": "python",
   "name": "python3"
  },
  "language_info": {
   "codemirror_mode": {
    "name": "ipython",
    "version": 3
   },
   "file_extension": ".py",
   "mimetype": "text/x-python",
   "name": "python",
   "nbconvert_exporter": "python",
   "pygments_lexer": "ipython3",
   "version": "3.6.8"
  }
 },
 "nbformat": 4,
 "nbformat_minor": 5
}
